{
 "cells": [
  {
   "cell_type": "code",
   "execution_count": null,
   "id": "0979edbb",
   "metadata": {},
   "outputs": [],
   "source": [
    "# import python libraries\n",
    "\n",
    "import numpy as np \n",
    "import pandas as pd \n",
    "import matplotlib.pyplot as plt # visualizing data\n",
    "%matplotlib inline\n",
    "import seaborn as sns"
   ]
  },
  {
   "cell_type": "code",
   "execution_count": null,
   "id": "7fbfb436",
   "metadata": {},
   "outputs": [],
   "source": [
    "# import csv file\n",
    "df = pd.read_csv('Diwali Sales Data.csv', encoding= 'unicode_escape')"
   ]
  },
  {
   "cell_type": "code",
   "execution_count": null,
   "id": "b8db4a5b",
   "metadata": {},
   "outputs": [],
   "source": [
    "df.shape"
   ]
  },
  {
   "cell_type": "code",
   "execution_count": null,
   "id": "662c471c",
   "metadata": {},
   "outputs": [],
   "source": [
    "df.head()"
   ]
  },
  {
   "cell_type": "code",
   "execution_count": null,
   "id": "0814c45b",
   "metadata": {},
   "outputs": [],
   "source": [
    "df.info()"
   ]
  },
  {
   "cell_type": "code",
   "execution_count": null,
   "id": "29afa95b",
   "metadata": {},
   "outputs": [],
   "source": [
    "#drop unrelated/blank columns\n",
    "df.drop(['Status', 'unnamed1'], axis=1, inplace=True)"
   ]
  },
  {
   "cell_type": "code",
   "execution_count": null,
   "id": "5cee58eb",
   "metadata": {},
   "outputs": [],
   "source": [
    "#check for null values\n",
    "pd.isnull(df).sum()"
   ]
  },
  {
   "cell_type": "code",
   "execution_count": null,
   "id": "65de74e3",
   "metadata": {},
   "outputs": [],
   "source": [
    "# drop null values\n",
    "df.dropna(inplace=True)"
   ]
  },
  {
   "cell_type": "code",
   "execution_count": null,
   "id": "14e4ff48",
   "metadata": {},
   "outputs": [],
   "source": [
    "# change data type\n",
    "df['Amount'] = df['Amount'].astype('int')"
   ]
  },
  {
   "cell_type": "code",
   "execution_count": null,
   "id": "aa6752dc",
   "metadata": {},
   "outputs": [],
   "source": [
    "df['Amount'].dtypes"
   ]
  },
  {
   "cell_type": "code",
   "execution_count": null,
   "id": "5f723a99",
   "metadata": {},
   "outputs": [],
   "source": [
    "df.columns"
   ]
  },
  {
   "cell_type": "code",
   "execution_count": null,
   "id": "a85bb3c3",
   "metadata": {},
   "outputs": [],
   "source": [
    "#rename column\n",
    "df.rename(columns= {'Marital_Status':'Shaadi'})"
   ]
  },
  {
   "cell_type": "code",
   "execution_count": null,
   "id": "a2484863",
   "metadata": {},
   "outputs": [],
   "source": [
    "# describe() method returns description of the data in the DataFrame (i.e. count, mean, std, etc)\n",
    "df.describe()"
   ]
  },
  {
   "cell_type": "code",
   "execution_count": null,
   "id": "2c380030",
   "metadata": {},
   "outputs": [],
   "source": [
    "# use describe() for specific columns\n",
    "df[['Age', 'Orders', 'Amount']].describe()"
   ]
  },
  {
   "cell_type": "markdown",
   "id": "cc649558",
   "metadata": {},
   "source": [
    "# Exploratory Data Analysis"
   ]
  },
  {
   "cell_type": "markdown",
   "id": "504b419c",
   "metadata": {},
   "source": [
    "### Gender"
   ]
  },
  {
   "cell_type": "code",
   "execution_count": null,
   "id": "84c7918d",
   "metadata": {},
   "outputs": [],
   "source": [
    "# plotting a bar chart for Gender and it's count\n",
    "\n",
    "ax = sns.countplot(x = 'Gender',data = df)\n",
    "\n",
    "for bars in ax.containers:\n",
    "    ax.bar_label(bars)"
   ]
  },
  {
   "cell_type": "code",
   "execution_count": null,
   "id": "c5fd4566",
   "metadata": {},
   "outputs": [],
   "source": [
    "# plotting a bar chart for gender vs total amount\n",
    "\n",
    "sales_gen = df.groupby(['Gender'], as_index=False)['Amount'].sum().sort_values(by='Amount', ascending=False)\n",
    "\n",
    "sns.barplot(x = 'Gender',y= 'Amount' ,data = sales_gen)"
   ]
  },
  {
   "cell_type": "markdown",
   "id": "1e108cec",
   "metadata": {},
   "source": [
    "*From above graphs we can see that most of the buyers are females and even the purchasing power of females are greater than men*"
   ]
  },
  {
   "cell_type": "markdown",
   "id": "dcc927f9",
   "metadata": {},
   "source": [
    "### Age"
   ]
  },
  {
   "cell_type": "code",
   "execution_count": null,
   "id": "88563dec",
   "metadata": {},
   "outputs": [],
   "source": [
    "ax = sns.countplot(data = df, x = 'Age Group', hue = 'Gender')\n",
    "\n",
    "for bars in ax.containers:\n",
    "    ax.bar_label(bars)"
   ]
  },
  {
   "cell_type": "code",
   "execution_count": null,
   "id": "bfbe3937",
   "metadata": {},
   "outputs": [],
   "source": [
    "# Total Amount vs Age Group\n",
    "sales_age = df.groupby(['Age Group'], as_index=False)['Amount'].sum().sort_values(by='Amount', ascending=False)\n",
    "\n",
    "sns.barplot(x = 'Age Group',y= 'Amount' ,data = sales_age)"
   ]
  },
  {
   "cell_type": "markdown",
   "id": "abaa6c07",
   "metadata": {},
   "source": [
    "*From above graphs we can see that most of the buyers are of age group between 26-35 yrs female*"
   ]
  },
  {
   "cell_type": "markdown",
   "id": "83a49098",
   "metadata": {},
   "source": [
    "### State"
   ]
  },
  {
   "cell_type": "code",
   "execution_count": null,
   "id": "dfac4f2c",
   "metadata": {},
   "outputs": [],
   "source": [
    "# total number of orders from top 10 states\n",
    "\n",
    "sales_state = df.groupby(['State'], as_index=False)['Orders'].sum().sort_values(by='Orders', ascending=False).head(10)\n",
    "\n",
    "sns.set(rc={'figure.figsize':(15,5)})\n",
    "sns.barplot(data = sales_state, x = 'State',y= 'Orders')"
   ]
  },
  {
   "cell_type": "code",
   "execution_count": null,
   "id": "a66617bc",
   "metadata": {},
   "outputs": [],
   "source": [
    "# total amount/sales from top 10 states\n",
    "\n",
    "sales_state = df.groupby(['State'], as_index=False)['Amount'].sum().sort_values(by='Amount', ascending=False).head(10)\n",
    "\n",
    "sns.set(rc={'figure.figsize':(15,5)})\n",
    "sns.barplot(data = sales_state, x = 'State',y= 'Amount')"
   ]
  },
  {
   "cell_type": "markdown",
   "id": "39d46e9e",
   "metadata": {},
   "source": [
    "*From above graphs we can see that most of the orders & total sales/amount are from Uttar Pradesh, Maharashtra and Karnataka respectively*\n"
   ]
  },
  {
   "cell_type": "markdown",
   "id": "89f865a5",
   "metadata": {},
   "source": [
    "### Marital Status"
   ]
  },
  {
   "cell_type": "code",
   "execution_count": 15,
   "id": "77e6635e",
   "metadata": {},
   "outputs": [
    {
     "data": {
      "image/png": "[encoded data removed]",
      "text/plain": [
       "<Figure size 600x500 with 1 Axes>"
      ]
     },
     "metadata": {},
     "output_type": "display_data"
    }
   ],
   "source": [
    "ax = sns.countplot(data = df, x = 'Marital_Status')\n",
    "\n",
    "sns.set(rc={'figure.figsize':(7,5)})\n",
    "for bars in ax.containers:\n",
    "    ax.bar_label(bars)"
   ]
  },
  {
   "cell_type": "code",
   "execution_count": 14,
   "id": "2d8c7b27",
   "metadata": {},
   "outputs": [
    {
     "data": {
      "text/plain": [
       "<Axes: xlabel='Marital_Status', ylabel='Amount'>"
      ]
     },
     "execution_count": 14,
     "metadata": {},
     "output_type": "execute_result"
    },
    {
     "data": {
      "image/png": "[encoded data removed]",
      "text/plain": [
       "<Figure size 600x500 with 1 Axes>"
      ]
     },
     "metadata": {},
     "output_type": "display_data"
    }
   ],
   "source": [
    "sales_state = df.groupby(['Marital_Status', 'Gender'], as_index=False)['Amount'].sum().sort_values(by='Amount', ascending=False)\n",
    "\n",
    "sns.set(rc={'figure.figsize':(6,5)})\n",
    "sns.barplot(data = sales_state, x = 'Marital_Status',y= 'Amount', hue='Gender')"
   ]
  },
  {
   "cell_type": "markdown",
   "id": "37afbb83",
   "metadata": {},
   "source": [
    "*From above graphs we can see that most of the buyers are married (women) and they have high purchasing power*"
   ]
  },
  {
   "cell_type": "markdown",
   "id": "230cfe66",
   "metadata": {},
   "source": [
    "### Occupation"
   ]
  },
  {
   "cell_type": "code",
   "execution_count": null,
   "id": "4deb41f4",
   "metadata": {},
   "outputs": [],
   "source": [
    "sns.set(rc={'figure.figsize':(20,5)})\n",
    "ax = sns.countplot(data = df, x = 'Occupation')\n",
    "\n",
    "for bars in ax.containers:\n",
    "    ax.bar_label(bars)"
   ]
  },
  {
   "cell_type": "code",
   "execution_count": null,
   "id": "4eb620f6",
   "metadata": {},
   "outputs": [],
   "source": [
    "sales_state = df.groupby(['Occupation'], as_index=False)['Amount'].sum().sort_values(by='Amount', ascending=False)\n",
    "\n",
    "sns.set(rc={'figure.figsize':(20,5)})\n",
    "sns.barplot(data = sales_state, x = 'Occupation',y= 'Amount')"
   ]
  },
  {
   "cell_type": "markdown",
   "id": "26c22532",
   "metadata": {},
   "source": [
    "*From above graphs we can see that most of the buyers are working in IT, Healthcare and Aviation sector*"
   ]
  },
  {
   "cell_type": "markdown",
   "id": "40518579",
   "metadata": {},
   "source": [
    "### Product Category"
   ]
  },
  {
   "cell_type": "code",
   "execution_count": null,
   "id": "3e7e4d39",
   "metadata": {},
   "outputs": [],
   "source": [
    "sns.set(rc={'figure.figsize':(20,5)})\n",
    "ax = sns.countplot(data = df, x = 'Product_Category')\n",
    "\n",
    "for bars in ax.containers:\n",
    "    ax.bar_label(bars)"
   ]
  },
  {
   "cell_type": "code",
   "execution_count": null,
   "id": "99f5c6f3",
   "metadata": {},
   "outputs": [],
   "source": [
    "sales_state = df.groupby(['Product_Category'], as_index=False)['Amount'].sum().sort_values(by='Amount', ascending=False).head(10)\n",
    "\n",
    "sns.set(rc={'figure.figsize':(20,5)})\n",
    "sns.barplot(data = sales_state, x = 'Product_Category',y= 'Amount')"
   ]
  },
  {
   "cell_type": "markdown",
   "id": "5be54973",
   "metadata": {},
   "source": [
    "*From above graphs we can see that most of the sold products are from Food, Clothing and Electronics category*"
   ]
  },
  {
   "cell_type": "code",
   "execution_count": 13,
   "id": "f33d23c7",
   "metadata": {},
   "outputs": [
    {
     "data": {
      "text/plain": [
       "<Axes: xlabel='Product_ID', ylabel='Orders'>"
      ]
     },
     "execution_count": 13,
     "metadata": {},
     "output_type": "execute_result"
    },
    {
     "data": {
      "image/png": "[encoded data removed]",
      "text/plain": [
       "<Figure size 2000x500 with 1 Axes>"
      ]
     },
     "metadata": {},
     "output_type": "display_data"
    }
   ],
   "source": [
    "sales_state = df.groupby(['Product_ID'], as_index=False)['Orders'].sum().sort_values(by='Orders', ascending=False).head(10)\n",
    "\n",
    "sns.set(rc={'figure.figsize':(20,5)})\n",
    "sns.barplot(data = sales_state, x = 'Product_ID',y= 'Orders')"
   ]
  },
  {
   "cell_type": "code",
   "execution_count": null,
   "id": "17d2bb43",
   "metadata": {},
   "outputs": [],
   "source": [
    "# top 10 most sold products (same thing as above)\n",
    "\n",
    "fig1, ax1 = plt.subplots(figsize=(12,7))\n",
    "df.groupby('Product_ID')['Orders'].sum().nlargest(10).sort_values(ascending=False).plot(kind='bar')"
   ]
  },
  {
   "cell_type": "markdown",
   "id": "31f88f63",
   "metadata": {},
   "source": [
    "## Conclusion:\n",
    "\n",
    "### "
   ]
  },
  {
   "cell_type": "markdown",
   "id": "56e52bca",
   "metadata": {},
   "source": [
    "*Married women age group 26-35 yrs from UP,  Maharastra and Karnataka working in IT, Healthcare and Aviation are more likely to buy products from Food, Clothing and Electronics category*"
   ]
  }
 ],
 "metadata": {
  "kernelspec": {
   "display_name": "Python 3 (ipykernel)",
   "language": "python",
   "name": "python3"
  },
  "language_info": {
   "codemirror_mode": {
    "name": "ipython",
    "version": 3
   },
   "file_extension": ".py",
   "mimetype": "text/x-python",
   "name": "python",
   "nbconvert_exporter": "python",
   "pygments_lexer": "ipython3",
   "version": "3.12.2"
  }
 },
 "nbformat": 4,
 "nbformat_minor": 5
}
